{
 "cells": [
  {
   "cell_type": "code",
   "execution_count": 1,
   "id": "f57565d0",
   "metadata": {},
   "outputs": [],
   "source": [
    "# data set from : https://www.kaggle.com/code/casper6290/car-purchase-prediction/data"
   ]
  },
  {
   "cell_type": "markdown",
   "id": "113e1644",
   "metadata": {},
   "source": [
    "importing the spark session and initializing it"
   ]
  },
  {
   "cell_type": "code",
   "execution_count": 2,
   "id": "dedeb1c7",
   "metadata": {},
   "outputs": [],
   "source": [
    "import findspark\n",
    "findspark.init()\n",
    "from pyspark.sql import SparkSession"
   ]
  },
  {
   "cell_type": "code",
   "execution_count": 3,
   "id": "4d4539c0",
   "metadata": {},
   "outputs": [],
   "source": [
    "spark_session = SparkSession.builder.appName(\"cars\").getOrCreate()"
   ]
  },
  {
   "cell_type": "markdown",
   "id": "765a4525",
   "metadata": {},
   "source": [
    "loding the data"
   ]
  },
  {
   "cell_type": "code",
   "execution_count": 4,
   "id": "4bd11435",
   "metadata": {},
   "outputs": [
    {
     "name": "stdout",
     "output_type": "stream",
     "text": [
      "+-------+------+---+------------+---------+\n",
      "|User ID|Gender|Age|AnnualSalary|Purchased|\n",
      "+-------+------+---+------------+---------+\n",
      "|    385|  Male| 35|       20000|        0|\n",
      "|    681|  Male| 40|       43500|        0|\n",
      "|    353|  Male| 49|       74000|        0|\n",
      "|    895|  Male| 40|      107500|        1|\n",
      "|    661|  Male| 25|       79000|        0|\n",
      "|    846|Female| 47|       33500|        1|\n",
      "|    219|Female| 46|      132500|        1|\n",
      "|    588|  Male| 42|       64000|        0|\n",
      "|     85|Female| 30|       84500|        0|\n",
      "|    465|  Male| 41|       52000|        0|\n",
      "|    686|  Male| 42|       80000|        0|\n",
      "|    408|  Male| 47|       23000|        1|\n",
      "|    790|Female| 32|       72500|        0|\n",
      "|    116|Female| 27|       57000|        0|\n",
      "|    118|Female| 42|      108000|        1|\n",
      "|     54|Female| 33|      149000|        1|\n",
      "|     90|  Male| 35|       75000|        0|\n",
      "|    372|  Male| 35|       53000|        0|\n",
      "|    926|  Male| 46|       79000|        1|\n",
      "|     94|Female| 39|      134000|        1|\n",
      "+-------+------+---+------------+---------+\n",
      "only showing top 20 rows\n",
      "\n"
     ]
    }
   ],
   "source": [
    "data = spark_session.read.csv(\"car_data.csv\", inferSchema = True, header = True)\n",
    "data.show()"
   ]
  },
  {
   "cell_type": "markdown",
   "id": "12f731c1",
   "metadata": {},
   "source": [
    "transforming the gender to int"
   ]
  },
  {
   "cell_type": "code",
   "execution_count": 5,
   "id": "ffbac253",
   "metadata": {},
   "outputs": [],
   "source": [
    "from pyspark.ml.feature import StringIndexer\n",
    "str_indexer = StringIndexer(inputCol=\"Gender\" , outputCol=\"gender_indexed\")"
   ]
  },
  {
   "cell_type": "code",
   "execution_count": 6,
   "id": "91040330",
   "metadata": {},
   "outputs": [
    {
     "name": "stdout",
     "output_type": "stream",
     "text": [
      "+-------+------+---+------------+---------+--------------+\n",
      "|User ID|Gender|Age|AnnualSalary|Purchased|gender_indexed|\n",
      "+-------+------+---+------------+---------+--------------+\n",
      "|    385|  Male| 35|       20000|        0|           1.0|\n",
      "|    681|  Male| 40|       43500|        0|           1.0|\n",
      "|    353|  Male| 49|       74000|        0|           1.0|\n",
      "|    895|  Male| 40|      107500|        1|           1.0|\n",
      "|    661|  Male| 25|       79000|        0|           1.0|\n",
      "|    846|Female| 47|       33500|        1|           0.0|\n",
      "|    219|Female| 46|      132500|        1|           0.0|\n",
      "|    588|  Male| 42|       64000|        0|           1.0|\n",
      "|     85|Female| 30|       84500|        0|           0.0|\n",
      "|    465|  Male| 41|       52000|        0|           1.0|\n",
      "|    686|  Male| 42|       80000|        0|           1.0|\n",
      "|    408|  Male| 47|       23000|        1|           1.0|\n",
      "|    790|Female| 32|       72500|        0|           0.0|\n",
      "|    116|Female| 27|       57000|        0|           0.0|\n",
      "|    118|Female| 42|      108000|        1|           0.0|\n",
      "|     54|Female| 33|      149000|        1|           0.0|\n",
      "|     90|  Male| 35|       75000|        0|           1.0|\n",
      "|    372|  Male| 35|       53000|        0|           1.0|\n",
      "|    926|  Male| 46|       79000|        1|           1.0|\n",
      "|     94|Female| 39|      134000|        1|           0.0|\n",
      "+-------+------+---+------------+---------+--------------+\n",
      "only showing top 20 rows\n",
      "\n"
     ]
    }
   ],
   "source": [
    "indexed = str_indexer.fit(data).transform(data)\n",
    "indexed.show()"
   ]
  },
  {
   "cell_type": "markdown",
   "id": "88b985a4",
   "metadata": {},
   "source": [
    "assembling features"
   ]
  },
  {
   "cell_type": "code",
   "execution_count": 7,
   "id": "708f234e",
   "metadata": {},
   "outputs": [
    {
     "name": "stdout",
     "output_type": "stream",
     "text": [
      "+-------------------------+---------+\n",
      "|features                 |Purchased|\n",
      "+-------------------------+---------+\n",
      "|[385.0,35.0,20000.0,1.0] |0        |\n",
      "|[681.0,40.0,43500.0,1.0] |0        |\n",
      "|[353.0,49.0,74000.0,1.0] |0        |\n",
      "|[895.0,40.0,107500.0,1.0]|1        |\n",
      "|[661.0,25.0,79000.0,1.0] |0        |\n",
      "|[846.0,47.0,33500.0,0.0] |1        |\n",
      "|[219.0,46.0,132500.0,0.0]|1        |\n",
      "|[588.0,42.0,64000.0,1.0] |0        |\n",
      "|[85.0,30.0,84500.0,0.0]  |0        |\n",
      "|[465.0,41.0,52000.0,1.0] |0        |\n",
      "|[686.0,42.0,80000.0,1.0] |0        |\n",
      "|[408.0,47.0,23000.0,1.0] |1        |\n",
      "|[790.0,32.0,72500.0,0.0] |0        |\n",
      "|[116.0,27.0,57000.0,0.0] |0        |\n",
      "|[118.0,42.0,108000.0,0.0]|1        |\n",
      "|[54.0,33.0,149000.0,0.0] |1        |\n",
      "|[90.0,35.0,75000.0,1.0]  |0        |\n",
      "|[372.0,35.0,53000.0,1.0] |0        |\n",
      "|[926.0,46.0,79000.0,1.0] |1        |\n",
      "|[94.0,39.0,134000.0,0.0] |1        |\n",
      "+-------------------------+---------+\n",
      "only showing top 20 rows\n",
      "\n"
     ]
    }
   ],
   "source": [
    "from pyspark.ml.feature import VectorAssembler\n",
    "assembler = VectorAssembler(inputCols = [\"User ID\",\"Age\",\"AnnualSalary\",\"gender_indexed\"] , outputCol=\"features\")\n",
    "finalized_data = assembler.transform(indexed)\n",
    "finalized_data = finalized_data.select(\"features\" , \"Purchased\")\n",
    "finalized_data.show(truncate = False)"
   ]
  },
  {
   "cell_type": "markdown",
   "id": "3a98f640",
   "metadata": {},
   "source": [
    "splitting the data into test and train data"
   ]
  },
  {
   "cell_type": "code",
   "execution_count": 8,
   "id": "1c3ea848",
   "metadata": {},
   "outputs": [],
   "source": [
    "test_data,  train_data = finalized_data.randomSplit([0.3,0.7])"
   ]
  },
  {
   "cell_type": "markdown",
   "id": "1c14e461",
   "metadata": {},
   "source": [
    "creating  the model and using it"
   ]
  },
  {
   "cell_type": "code",
   "execution_count": 9,
   "id": "8db2aab3",
   "metadata": {},
   "outputs": [],
   "source": [
    "from pyspark.ml.classification import LogisticRegression\n",
    "lr = LogisticRegression(labelCol=\"Purchased\")"
   ]
  },
  {
   "cell_type": "code",
   "execution_count": 10,
   "id": "c95432cf",
   "metadata": {},
   "outputs": [],
   "source": [
    "lr = lr.fit(train_data)\n",
    "res = lr.evaluate(test_data).predictions"
   ]
  },
  {
   "cell_type": "code",
   "execution_count": 11,
   "id": "64bfe0ae",
   "metadata": {},
   "outputs": [
    {
     "name": "stdout",
     "output_type": "stream",
     "text": [
      "+--------------------+---------+--------------------+--------------------+----------+\n",
      "|            features|Purchased|       rawPrediction|         probability|prediction|\n",
      "+--------------------+---------+--------------------+--------------------+----------+\n",
      "|[19.0,48.0,31500....|        1|[0.40336316718364...|[0.59949542830589...|       0.0|\n",
      "|[20.0,40.0,107000...|        1|[-0.5885614172981...|[0.35696500001117...|       1.0|\n",
      "|[22.0,56.0,131500...|        1|[-4.8644174296869...|[0.00765723647883...|       1.0|\n",
      "|[26.0,47.0,47000....|        0|[0.08060364027053...|[0.52014000720184...|       0.0|\n",
      "|[27.0,40.0,60500....|        0|[1.15175962886747...|[0.75983217356560...|       0.0|\n",
      "|[29.0,36.0,40500....|        0|[2.62271995905869...|[0.93230956077747...|       0.0|\n",
      "|[30.0,27.0,58000....|        0|[3.99493241529427...|[0.98192406380064...|       0.0|\n",
      "|[32.0,47.0,50000....|        1|[-0.0248213863584...|[0.49379497198423...|       1.0|\n",
      "|[33.0,30.0,62500....|        0|[3.17537249382304...|[0.95989690958596...|       0.0|\n",
      "|[36.0,20.0,26500....|        0|[6.64212072261086...|[0.99869744053535...|       0.0|\n",
      "|[38.0,43.0,76500....|        0|[-0.0710859170246...|[0.48223600054532...|       1.0|\n",
      "|[40.0,26.0,86000....|        0|[3.23413928910147...|[0.96209897921858...|       0.0|\n",
      "|[46.0,61.0,109500...|        1|[-5.1980581541024...|[0.00549690417851...|       1.0|\n",
      "|[47.0,48.0,48500....|        0|[-0.1937078593176...|[0.45172389514105...|       1.0|\n",
      "|[49.0,26.0,91500....|        0|[3.04097255952487...|[0.95439118213558...|       0.0|\n",
      "|[57.0,26.0,88500....|        0|[3.14561018478538...|[0.95873540197549...|       0.0|\n",
      "|[58.0,43.0,81500....|        1|[-0.2473567242884...|[0.43847420592144...|       1.0|\n",
      "|[66.0,59.0,106500...|        1|[-4.6529222181291...|[0.00944366851140...|       1.0|\n",
      "|[67.0,38.0,50000....|        0|[1.95848962799203...|[0.87636940256151...|       0.0|\n",
      "|[68.0,35.0,44500....|        0|[2.81285376727692...|[0.94336647808610...|       0.0|\n",
      "+--------------------+---------+--------------------+--------------------+----------+\n",
      "only showing top 20 rows\n",
      "\n"
     ]
    }
   ],
   "source": [
    "res.show()"
   ]
  },
  {
   "cell_type": "markdown",
   "id": "e06a0604",
   "metadata": {},
   "source": [
    "evaluate the accuracy of the model"
   ]
  },
  {
   "cell_type": "code",
   "execution_count": 12,
   "id": "989821b3",
   "metadata": {},
   "outputs": [
    {
     "data": {
      "text/plain": [
       "0.9163201008191556"
      ]
     },
     "execution_count": 12,
     "metadata": {},
     "output_type": "execute_result"
    }
   ],
   "source": [
    "from pyspark.ml.evaluation import BinaryClassificationEvaluator\n",
    "evaluator = BinaryClassificationEvaluator(labelCol=\"Purchased\")\n",
    "evaluator.evaluate(res)"
   ]
  },
  {
   "cell_type": "code",
   "execution_count": null,
   "id": "7d3363f5",
   "metadata": {},
   "outputs": [],
   "source": []
  }
 ],
 "metadata": {
  "kernelspec": {
   "display_name": "Python 3 (ipykernel)",
   "language": "python",
   "name": "python3"
  },
  "language_info": {
   "codemirror_mode": {
    "name": "ipython",
    "version": 3
   },
   "file_extension": ".py",
   "mimetype": "text/x-python",
   "name": "python",
   "nbconvert_exporter": "python",
   "pygments_lexer": "ipython3",
   "version": "3.10.5"
  }
 },
 "nbformat": 4,
 "nbformat_minor": 5
}
